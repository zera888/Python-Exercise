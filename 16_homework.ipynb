{
 "cells": [
  {
   "cell_type": "markdown",
   "metadata": {
    "colab_type": "text",
    "id": "P6xk2_jLsvFF"
   },
   "source": [
    "# [作業目標]\n",
    "\n",
    "\n",
    "1. 請根據給定的列表依序完成下咧操作：\n",
    "\n",
    "    * 1. 利用 map 將原始資料四捨五入\n",
    "    * 2. 利用 filter 挑選出大於 30 的元素\n",
    "    * 3. 利用 reduce 計算總和\n",
    "\n",
    "\n",
    "2. 實作一個 map function，對一個 list 中的每個元素都做相同的操作\n",
    "\n",
    "    * Sample Input 1: L = [1,2,3,4,5,6], F = add1(n)\n",
    "    * Sample Output 1: [2,3,4,5,6,7]\n",
    "    * Sample Input 2: L = [2,3,4,5,6,7], F = isPrime(n)\n",
    "    * Sample Output 2: [True,True,False,True,False,True]\n",
    "\n"
   ]
  },
  {
   "cell_type": "markdown",
   "metadata": {
    "colab_type": "text",
    "id": "uXGll28asvFS"
   },
   "source": [
    "# 作業 "
   ]
  },
  {
   "cell_type": "markdown",
   "metadata": {},
   "source": [
    "### 1. 請根據給定的列表依序完成下咧操作：\n",
    "\n",
    "* 1. 利用 map 將原始資料四捨五入\n",
    "* 2. 利用 filter 挑選出大於 30 的元素\n",
    "* 3. 利用 reduce 計算總和"
   ]
  },
  {
   "cell_type": "code",
   "execution_count": 22,
   "metadata": {},
   "outputs": [
    {
     "name": "stdout",
     "output_type": "stream",
     "text": [
      "a= [7.0, 10.0, 4.0, 56.0, 9.0, 44.0]\n",
      "b= [56.0, 44.0]\n",
      "c= 100.0\n"
     ]
    }
   ],
   "source": [
    "import numpy as  np\n",
    "from functools import reduce\n",
    "\n",
    "L = [6.6, 9.58, 4.009, 56.2424, 9.01344, 44.00013]\n",
    "\n",
    "a = list(map(lambda x: np.round(x), L))\n",
    "print('a=',a)\n",
    "\n",
    "b = list(filter(lambda x: x > 30, a))\n",
    "print('b=',b)\n",
    "\n",
    "c = reduce(lambda a, b: a + b,b)\n",
    "print('c=',c)"
   ]
  },
  {
   "cell_type": "markdown",
   "metadata": {},
   "source": [
    "### 2. 實作一個 map function，對一個 list 中的每個元素都做相同的操作\n",
    "\n",
    "* Sample Input 1: L = [1,2,3,4,5,6], F = add1(n)\n",
    "* Sample Output 1:  [2,3,4,5,6,7]\n",
    "* Sample Input 2: L = [2,3,4,5,6,7], F = isPrime(n)\n",
    "* Sample Output 2: [True,True,False,True,False,True]"
   ]
  },
  {
   "cell_type": "code",
   "execution_count": 12,
   "metadata": {},
   "outputs": [
    {
     "name": "stdout",
     "output_type": "stream",
     "text": [
      "[2, 3, 4, 5, 6, 7]\n",
      "[True, True, False, True, False, True]\n"
     ]
    }
   ],
   "source": [
    "def add1(n):\n",
    "    return n+1\n",
    "\n",
    "def isPrime(n):\n",
    "    for i in range(2, int(n**0.5)+1):\n",
    "        if n % i == 0:\n",
    "            return False\n",
    "    return True\n",
    "\n",
    "L1 = [1,2,3,4,5,6]\n",
    "L2 = [2,3,4,5,6,7]\n",
    "A=[]\n",
    "B=[]\n",
    "\n",
    "for i in L1:\n",
    "    a=add1(i)\n",
    "    A.append(a)\n",
    "    \n",
    "for  i in L2:\n",
    "    b=isPrime(i)\n",
    "    B.append(b)\n",
    "    \n",
    "\n",
    "print(A)\n",
    "print(B)\n"
   ]
  },
  {
   "cell_type": "code",
   "execution_count": 25,
   "metadata": {},
   "outputs": [
    {
     "name": "stdout",
     "output_type": "stream",
     "text": [
      "[2, 3, 4, 5, 6, 7]\n",
      "[True, True, False, True, False, True]\n"
     ]
    }
   ],
   "source": [
    "def add1(n):\n",
    "    return n+1\n",
    "\n",
    "def isPrime(n):\n",
    "    for i in range(2, int(n**0.5)+1):\n",
    "        if n % i == 0:\n",
    "            return False\n",
    "    return True\n",
    "\n",
    "L1 = [1,2,3,4,5,6]\n",
    "L2 = [2,3,4,5,6,7]\n",
    "A=list(map(add1,L1))\n",
    "B=list(map(isPrime,L2))\n",
    "\n",
    "print(A)\n",
    "print(B)"
   ]
  },
  {
   "cell_type": "code",
   "execution_count": null,
   "metadata": {},
   "outputs": [],
   "source": []
  }
 ],
 "metadata": {
  "colab": {
   "name": "Day_023_HW.ipynb",
   "provenance": []
  },
  "kernelspec": {
   "display_name": "Python 3 (ipykernel)",
   "language": "python",
   "name": "python3"
  },
  "language_info": {
   "codemirror_mode": {
    "name": "ipython",
    "version": 3
   },
   "file_extension": ".py",
   "mimetype": "text/x-python",
   "name": "python",
   "nbconvert_exporter": "python",
   "pygments_lexer": "ipython3",
   "version": "3.8.5"
  }
 },
 "nbformat": 4,
 "nbformat_minor": 1
}
