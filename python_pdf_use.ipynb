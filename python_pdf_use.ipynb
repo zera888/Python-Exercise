{
 "cells": [
  {
   "cell_type": "code",
   "execution_count": 2,
   "metadata": {},
   "outputs": [
    {
     "name": "stdout",
     "output_type": "stream",
     "text": [
      "{'/Author': 'ADMIN', '/CreationDate': \"D:20210901095132+08'00'\", '/ModDate': \"D:20210901095132+08'00'\", '/Producer': 'Microsoft: Print To PDF', '/Title': b'AIqx>\\xa4\\x11\\x84\\xb2\\x0b'}\n",
      "number of pages: 1\n",
      "{'/Contents': [IndirectObject(5, 0)], '/CropBox': [0, 0, 595.27576, 841.89001], '/MediaBox': [0, 0, 595.27576, 841.89001], '/Parent': IndirectObject(2, 0), '/Resources': IndirectObject(6, 0), '/Rotate': 0, '/Type': '/Page'}\n",
      "\n"
     ]
    },
    {
     "name": "stderr",
     "output_type": "stream",
     "text": [
      "PdfReadWarning: Superfluous whitespace found in object header b'7' b'0' [pdf.py:1665]\n",
      "PdfReadWarning: Superfluous whitespace found in object header b'1' b'0' [pdf.py:1665]\n",
      "PdfReadWarning: Superfluous whitespace found in object header b'2' b'0' [pdf.py:1665]\n",
      "PdfReadWarning: Superfluous whitespace found in object header b'3' b'0' [pdf.py:1665]\n",
      "PdfReadWarning: Superfluous whitespace found in object header b'5' b'0' [pdf.py:1665]\n"
     ]
    }
   ],
   "source": [
    "\n",
    "#提取文件資訊和內容。\n",
    "from PyPDF2 import PdfFileReader\n",
    "\n",
    "pdf_document = \"我的AI社群課程.pdf\"\n",
    "with open(pdf_document, \"rb\") as filehandle:\n",
    "    pdf = PdfFileReader(filehandle)\n",
    "    info = pdf.getDocumentInfo()\n",
    "    pages = pdf.getNumPages()\n",
    "\n",
    "    print (info)\n",
    "    print (\"number of pages: %i\" % pages)\n",
    "\n",
    "    page1 = pdf.getPage(0)\n",
    "    print(page1)\n",
    "    print(page1.extractText())\n"
   ]
  },
  {
   "cell_type": "code",
   "execution_count": 5,
   "metadata": {},
   "outputs": [
    {
     "name": "stdout",
     "output_type": "stream",
     "text": [
      "number of pages: 1\n",
      "{'format': 'PDF 1.7', 'title': 'AIqx>¤\\x11—²\\x0b', 'author': 'ADMIN', 'subject': '', 'keywords': '', 'creator': '', 'producer': 'Microsoft: Print To PDF', 'creationDate': \"D:20210901095132+08'00'\", 'modDate': \"D:20210901095132+08'00'\", 'trapped': '', 'encryption': None}\n",
      "\n"
     ]
    }
   ],
   "source": [
    "#使用PyMuPDF從PDF文件中提取內容。\n",
    "#!/usr/bin/python\n",
    "\n",
    "import fitz\n",
    "\n",
    "pdf_document = \"我的AI社群課程.pdf\"\n",
    "doc = fitz.open(pdf_document)\n",
    "print (\"number of pages: %i\" % doc.pageCount)\n",
    "print(doc.metadata)\n",
    "\n",
    "page1 = doc.loadPage(0)\n",
    "page1text = page1.getText(\"text\")\n",
    "print(page1text)"
   ]
  },
  {
   "cell_type": "code",
   "execution_count": 7,
   "metadata": {},
   "outputs": [],
   "source": [
    "#提取影像\n",
    "#!/usr/bin/python\n",
    "\n",
    "import fitz\n",
    "\n",
    "pdf_document = fitz.open(\"Eclipse-IDE.pdf\")\n",
    "for current_page in range(len(pdf_document)):\n",
    "    for image in pdf_document.getPageImageList(current_page):\n",
    "        xref = image[0]\n",
    "        pix = fitz.Pixmap(pdf_document, xref)\n",
    "        if pix.n < 5:        # this is GRAY or RGB\n",
    "            pix.writePNG(\"page%s-%s.png\" % (current_page, xref))\n",
    "        else:                # CMYK: convert to RGB first\n",
    "            pix1 = fitz.Pixmap(fitz.csRGB, pix)\n",
    "            pix1.writePNG(\"page%s-%s.png\" % (current_page, xref))\n",
    "            pix1 = None\n",
    "        pix = None"
   ]
  },
  {
   "cell_type": "code",
   "execution_count": 8,
   "metadata": {},
   "outputs": [
    {
     "name": "stdout",
     "output_type": "stream",
     "text": [
      "created 機器學習百日馬拉松-page-1.pdf\n",
      "created 機器學習百日馬拉松-page-2.pdf\n",
      "created 機器學習百日馬拉松-page-3.pdf\n",
      "created 機器學習百日馬拉松-page-4.pdf\n",
      "created 機器學習百日馬拉松-page-5.pdf\n",
      "created 機器學習百日馬拉松-page-6.pdf\n",
      "created 機器學習百日馬拉松-page-7.pdf\n",
      "created 機器學習百日馬拉松-page-8.pdf\n",
      "created 機器學習百日馬拉松-page-9.pdf\n",
      "created 機器學習百日馬拉松-page-10.pdf\n"
     ]
    },
    {
     "name": "stderr",
     "output_type": "stream",
     "text": [
      "PdfReadWarning: Superfluous whitespace found in object header b'1' b'0' [pdf.py:1665]\n",
      "PdfReadWarning: Superfluous whitespace found in object header b'2' b'0' [pdf.py:1665]\n",
      "PdfReadWarning: Superfluous whitespace found in object header b'3' b'0' [pdf.py:1665]\n",
      "PdfReadWarning: Superfluous whitespace found in object header b'40' b'0' [pdf.py:1665]\n",
      "PdfReadWarning: Superfluous whitespace found in object header b'44' b'0' [pdf.py:1665]\n",
      "PdfReadWarning: Superfluous whitespace found in object header b'47' b'0' [pdf.py:1665]\n",
      "PdfReadWarning: Superfluous whitespace found in object header b'52' b'0' [pdf.py:1665]\n",
      "PdfReadWarning: Superfluous whitespace found in object header b'57' b'0' [pdf.py:1665]\n",
      "PdfReadWarning: Superfluous whitespace found in object header b'61' b'0' [pdf.py:1665]\n",
      "PdfReadWarning: Superfluous whitespace found in object header b'65' b'0' [pdf.py:1665]\n",
      "PdfReadWarning: Superfluous whitespace found in object header b'69' b'0' [pdf.py:1665]\n",
      "PdfReadWarning: Superfluous whitespace found in object header b'73' b'0' [pdf.py:1665]\n",
      "PdfReadWarning: Superfluous whitespace found in object header b'20' b'0' [pdf.py:1665]\n",
      "PdfReadWarning: Superfluous whitespace found in object header b'38' b'0' [pdf.py:1665]\n",
      "PdfReadWarning: Superfluous whitespace found in object header b'39' b'0' [pdf.py:1665]\n",
      "PdfReadWarning: Superfluous whitespace found in object header b'11' b'0' [pdf.py:1665]\n",
      "PdfReadWarning: Superfluous whitespace found in object header b'4' b'0' [pdf.py:1665]\n",
      "PdfReadWarning: Superfluous whitespace found in object header b'5' b'0' [pdf.py:1665]\n",
      "PdfReadWarning: Superfluous whitespace found in object header b'6' b'0' [pdf.py:1665]\n",
      "PdfReadWarning: Superfluous whitespace found in object header b'8' b'0' [pdf.py:1665]\n",
      "PdfReadWarning: Superfluous whitespace found in object header b'7' b'0' [pdf.py:1665]\n",
      "PdfReadWarning: Superfluous whitespace found in object header b'9' b'0' [pdf.py:1665]\n",
      "PdfReadWarning: Superfluous whitespace found in object header b'10' b'0' [pdf.py:1665]\n",
      "PdfReadWarning: Superfluous whitespace found in object header b'19' b'0' [pdf.py:1665]\n",
      "PdfReadWarning: Superfluous whitespace found in object header b'12' b'0' [pdf.py:1665]\n",
      "PdfReadWarning: Superfluous whitespace found in object header b'13' b'0' [pdf.py:1665]\n",
      "PdfReadWarning: Superfluous whitespace found in object header b'14' b'0' [pdf.py:1665]\n",
      "PdfReadWarning: Superfluous whitespace found in object header b'16' b'0' [pdf.py:1665]\n",
      "PdfReadWarning: Superfluous whitespace found in object header b'15' b'0' [pdf.py:1665]\n",
      "PdfReadWarning: Superfluous whitespace found in object header b'17' b'0' [pdf.py:1665]\n",
      "PdfReadWarning: Superfluous whitespace found in object header b'18' b'0' [pdf.py:1665]\n",
      "PdfReadWarning: Superfluous whitespace found in object header b'28' b'0' [pdf.py:1665]\n",
      "PdfReadWarning: Superfluous whitespace found in object header b'21' b'0' [pdf.py:1665]\n",
      "PdfReadWarning: Superfluous whitespace found in object header b'22' b'0' [pdf.py:1665]\n",
      "PdfReadWarning: Superfluous whitespace found in object header b'23' b'0' [pdf.py:1665]\n",
      "PdfReadWarning: Superfluous whitespace found in object header b'25' b'0' [pdf.py:1665]\n",
      "PdfReadWarning: Superfluous whitespace found in object header b'24' b'0' [pdf.py:1665]\n",
      "PdfReadWarning: Superfluous whitespace found in object header b'26' b'0' [pdf.py:1665]\n",
      "PdfReadWarning: Superfluous whitespace found in object header b'27' b'0' [pdf.py:1665]\n",
      "PdfReadWarning: Superfluous whitespace found in object header b'36' b'0' [pdf.py:1665]\n",
      "PdfReadWarning: Superfluous whitespace found in object header b'29' b'0' [pdf.py:1665]\n",
      "PdfReadWarning: Superfluous whitespace found in object header b'30' b'0' [pdf.py:1665]\n",
      "PdfReadWarning: Superfluous whitespace found in object header b'31' b'0' [pdf.py:1665]\n",
      "PdfReadWarning: Superfluous whitespace found in object header b'33' b'0' [pdf.py:1665]\n",
      "PdfReadWarning: Superfluous whitespace found in object header b'32' b'0' [pdf.py:1665]\n",
      "PdfReadWarning: Superfluous whitespace found in object header b'34' b'0' [pdf.py:1665]\n",
      "PdfReadWarning: Superfluous whitespace found in object header b'35' b'0' [pdf.py:1665]\n",
      "PdfReadWarning: Superfluous whitespace found in object header b'37' b'0' [pdf.py:1665]\n",
      "PdfReadWarning: Superfluous whitespace found in object header b'41' b'0' [pdf.py:1665]\n",
      "PdfReadWarning: Superfluous whitespace found in object header b'42' b'0' [pdf.py:1665]\n",
      "PdfReadWarning: Superfluous whitespace found in object header b'43' b'0' [pdf.py:1665]\n",
      "PdfReadWarning: Superfluous whitespace found in object header b'45' b'0' [pdf.py:1665]\n",
      "PdfReadWarning: Superfluous whitespace found in object header b'46' b'0' [pdf.py:1665]\n",
      "PdfReadWarning: Superfluous whitespace found in object header b'48' b'0' [pdf.py:1665]\n",
      "PdfReadWarning: Superfluous whitespace found in object header b'49' b'0' [pdf.py:1665]\n",
      "PdfReadWarning: Superfluous whitespace found in object header b'50' b'0' [pdf.py:1665]\n",
      "PdfReadWarning: Superfluous whitespace found in object header b'51' b'0' [pdf.py:1665]\n",
      "PdfReadWarning: Superfluous whitespace found in object header b'53' b'0' [pdf.py:1665]\n",
      "PdfReadWarning: Superfluous whitespace found in object header b'54' b'0' [pdf.py:1665]\n",
      "PdfReadWarning: Superfluous whitespace found in object header b'55' b'0' [pdf.py:1665]\n",
      "PdfReadWarning: Superfluous whitespace found in object header b'56' b'0' [pdf.py:1665]\n",
      "PdfReadWarning: Superfluous whitespace found in object header b'58' b'0' [pdf.py:1665]\n",
      "PdfReadWarning: Superfluous whitespace found in object header b'59' b'0' [pdf.py:1665]\n",
      "PdfReadWarning: Superfluous whitespace found in object header b'60' b'0' [pdf.py:1665]\n",
      "PdfReadWarning: Superfluous whitespace found in object header b'62' b'0' [pdf.py:1665]\n",
      "PdfReadWarning: Superfluous whitespace found in object header b'63' b'0' [pdf.py:1665]\n",
      "PdfReadWarning: Superfluous whitespace found in object header b'64' b'0' [pdf.py:1665]\n",
      "PdfReadWarning: Superfluous whitespace found in object header b'66' b'0' [pdf.py:1665]\n",
      "PdfReadWarning: Superfluous whitespace found in object header b'67' b'0' [pdf.py:1665]\n",
      "PdfReadWarning: Superfluous whitespace found in object header b'68' b'0' [pdf.py:1665]\n",
      "PdfReadWarning: Superfluous whitespace found in object header b'70' b'0' [pdf.py:1665]\n",
      "PdfReadWarning: Superfluous whitespace found in object header b'71' b'0' [pdf.py:1665]\n",
      "PdfReadWarning: Superfluous whitespace found in object header b'72' b'0' [pdf.py:1665]\n",
      "PdfReadWarning: Superfluous whitespace found in object header b'74' b'0' [pdf.py:1665]\n",
      "PdfReadWarning: Superfluous whitespace found in object header b'75' b'0' [pdf.py:1665]\n"
     ]
    }
   ],
   "source": [
    "#將PDF拆分為單個頁面。\n",
    "#!/usr/bin/python\n",
    "\n",
    "from PyPDF2 import PdfFileReader, PdfFileWriter\n",
    "\n",
    "pdf_document = \"機器學習百日馬拉松.pdf\"\n",
    "pdf = PdfFileReader(pdf_document)\n",
    "\n",
    "for page in range(pdf.getNumPages()):\n",
    "    pdf_writer = PdfFileWriter()\n",
    "    current_page = pdf.getPage(page)\n",
    "    pdf_writer.addPage(current_page)\n",
    "\n",
    "    outputFilename = \"機器學習百日馬拉松-page-{}.pdf\".format(page + 1)\n",
    "    with open(outputFilename, \"wb\") as out:\n",
    "        pdf_writer.write(out)\n",
    "\n",
    "        print(\"created\", outputFilename)\n",
    "\n"
   ]
  },
  {
   "cell_type": "code",
   "execution_count": 2,
   "metadata": {},
   "outputs": [
    {
     "name": "stdout",
     "output_type": "stream",
     "text": [
      "決策樹 found on page 3\n"
     ]
    }
   ],
   "source": [
    "#尋給定的文字。\n",
    "#!/usr/bin/python\n",
    "\n",
    "import fitz\n",
    "\n",
    "filename = \"機器學習百日馬拉松.pdf\"\n",
    "search_term = \"決策樹\"\n",
    "pdf_document = fitz.open(filename)\n",
    "    \n",
    "\n",
    "for current_page in range(len(pdf_document)):\n",
    "    page = pdf_document.loadPage(current_page)\n",
    "    if page.searchFor(search_term):\n",
    "        print(\"%s found on page %i\" % (search_term, current_page))\n"
   ]
  },
  {
   "cell_type": "code",
   "execution_count": null,
   "metadata": {},
   "outputs": [],
   "source": []
  }
 ],
 "metadata": {
  "kernelspec": {
   "display_name": "Python 3",
   "language": "python",
   "name": "python3"
  },
  "language_info": {
   "codemirror_mode": {
    "name": "ipython",
    "version": 3
   },
   "file_extension": ".py",
   "mimetype": "text/x-python",
   "name": "python",
   "nbconvert_exporter": "python",
   "pygments_lexer": "ipython3",
   "version": "3.8.5"
  }
 },
 "nbformat": 4,
 "nbformat_minor": 4
}
