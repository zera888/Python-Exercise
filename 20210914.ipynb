{
 "cells": [
  {
   "cell_type": "code",
   "execution_count": 23,
   "metadata": {},
   "outputs": [
    {
     "name": "stdout",
     "output_type": "stream",
     "text": [
      "1002000000\n",
      "10000000649\n"
     ]
    }
   ],
   "source": [
    "def fill_zeros(txt:str, txt_length:int):\n",
    "    n=txt_length\n",
    "    ss=txt.ljust(n,'0')\n",
    "    print(ss)\n",
    "    \n",
    "    \n",
    "fill_zeros(\"10020\",10)\n",
    "fill_zeros(\"10000000649\",10)\n",
    "\n",
    "\n",
    "\n"
   ]
  },
  {
   "cell_type": "code",
   "execution_count": 17,
   "metadata": {},
   "outputs": [
    {
     "name": "stdout",
     "output_type": "stream",
     "text": [
      "True\n",
      "True\n",
      "False\n"
     ]
    }
   ],
   "source": [
    "n=str\n",
    "def check_deplicate(num_txt:str):\n",
    "    string = num_txt\n",
    "    print(string.isdigit()) \n",
    " \n",
    "   \n",
    "check_deplicate(\"0123456789\")\n",
    "check_deplicate(\"0123456781\")\n",
    "check_deplicate(\"012345678a\")\n"
   ]
  },
  {
   "cell_type": "code",
   "execution_count": null,
   "metadata": {},
   "outputs": [],
   "source": []
  }
 ],
 "metadata": {
  "kernelspec": {
   "display_name": "Python 3",
   "language": "python",
   "name": "python3"
  },
  "language_info": {
   "codemirror_mode": {
    "name": "ipython",
    "version": 3
   },
   "file_extension": ".py",
   "mimetype": "text/x-python",
   "name": "python",
   "nbconvert_exporter": "python",
   "pygments_lexer": "ipython3",
   "version": "3.8.5"
  }
 },
 "nbformat": 4,
 "nbformat_minor": 4
}
