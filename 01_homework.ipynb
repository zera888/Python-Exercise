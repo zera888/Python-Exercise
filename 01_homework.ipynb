{
 "cells": [
  {
   "cell_type": "markdown",
   "metadata": {
    "colab_type": "text",
    "id": "P6xk2_jLsvFF"
   },
   "source": [
    "# [作業目標]\n",
    "\n",
    "1. 請設定三個變數值「name」、「birth」、「job」，分別指定成「名字」、「出生年份」及「工作」，並且印出成下列輸出：\n",
    "\n",
    "```\n",
    "Hello World, 我的名字是 OOO\n",
    "我今年 OO 歲，目前的工作是 OOO\n",
    "學習 Python 的目標是： OOO。\n",
    "```\n",
    "\n",
    "2. 攝氏溫標是目前世界上最常用的溫標，而在美國則是使用華氏溫標為主，假設現在是攝氏 C 度，則華氏 F 度可以表示成 F=C*9/5+32。現在給你攝氏的溫度，請問你它是華氏幾度？\n",
    "\n",
    "    * 使用者需要定義 C 跟 F 兩個變數，分別代表華氏溫度和攝氏溫度\n",
    "    * 變數 C 由使用者輸入，變數 F 由程式計算產生\n",
    "\n",
    "\n",
    "\n"
   ]
  },
  {
   "cell_type": "markdown",
   "metadata": {
    "colab_type": "text",
    "id": "uXGll28asvFS"
   },
   "source": [
    "# 作業 "
   ]
  },
  {
   "cell_type": "markdown",
   "metadata": {},
   "source": [
    "### 1. 請設定三個變數值「name」、「birth」、「job」，分別指定成「名字」、「出生年份」及「工作」，並且印出成下列輸出：\n",
    "\n",
    "```\n",
    "Hello World, 我的名字是 OOO\n",
    "我今年 OO 歲，目前的工作是 OOO\n",
    "學習 Python 的目標是： OOO。\n",
    "```"
   ]
  },
  {
   "cell_type": "code",
   "execution_count": 12,
   "metadata": {
    "colab": {},
    "colab_type": "code",
    "id": "5QrYoyNWsvFS"
   },
   "outputs": [
    {
     "name": "stdout",
     "output_type": "stream",
     "text": [
      "我的名字是:李大明\n",
      "我今年:28\n",
      "目前的工作是:工程師\n",
      "學習 Python 的目標是: 用python寫程式\n",
      "\n",
      "Hello World , 我的名字是 李大明\n",
      "我今年 28 歲 , 目前的工作是 工程師\n",
      "學習 Python 的目標是: 用python寫程式\n"
     ]
    }
   ],
   "source": [
    "# 輸入與輸出\n",
    "name = input(\"我的名字是:\")\n",
    "\n",
    "birth = input(\"我今年:\")\n",
    "\n",
    "job = input(\"目前的工作是:\")\n",
    "\n",
    "goal = input(\"學習 Python 的目標是: \")\n",
    "\n",
    "print()\n",
    "print(\"Hello World , 我的名字是 %s\" %(name))\n",
    "print(\"我今年 %s 歲 , 目前的工作是 %s\" % (birth,job) )     \n",
    "print(\"學習 Python 的目標是: %s\" % (goal))"
   ]
  },
  {
   "cell_type": "markdown",
   "metadata": {},
   "source": [
    "### 2. 攝氏溫標是目前世界上最常用的溫標，而在美國則是使用華氏溫標為主，假設現在是攝氏 C 度，則華氏 F 度可以表示成 F=C*9/5+32。現在給你攝氏的溫度，請問你它是華氏幾度？\n",
    "\n",
    "* 使用者需要定義 C 跟 F 兩個變數，分別代表華氏溫度和攝氏溫度\n",
    "* 變數 C 由使用者輸入，變數 F 由程式計算產生\n"
   ]
  },
  {
   "cell_type": "code",
   "execution_count": 14,
   "metadata": {
    "colab": {},
    "colab_type": "code",
    "id": "e1gVI0tvsvFY"
   },
   "outputs": [
    {
     "name": "stdout",
     "output_type": "stream",
     "text": [
      "現在是攝氏幾度:32\n",
      "現在是華氏: 89.6 度\n"
     ]
    }
   ],
   "source": [
    "C = int(input(\"現在是攝氏幾度:\"))\n",
    "F = C*9/5+32\n",
    "print(\"現在是華氏: %s 度\" %F)"
   ]
  },
  {
   "cell_type": "code",
   "execution_count": null,
   "metadata": {},
   "outputs": [],
   "source": []
  }
 ],
 "metadata": {
  "colab": {
   "name": "Day_023_HW.ipynb",
   "provenance": []
  },
  "kernelspec": {
   "display_name": "Python 3",
   "language": "python",
   "name": "python3"
  },
  "language_info": {
   "codemirror_mode": {
    "name": "ipython",
    "version": 3
   },
   "file_extension": ".py",
   "mimetype": "text/x-python",
   "name": "python",
   "nbconvert_exporter": "python",
   "pygments_lexer": "ipython3",
   "version": "3.8.5"
  }
 },
 "nbformat": 4,
 "nbformat_minor": 1
}
