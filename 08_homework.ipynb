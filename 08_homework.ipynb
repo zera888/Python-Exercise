{
 "cells": [
  {
   "cell_type": "code",
   "execution_count": null,
   "metadata": {},
   "outputs": [],
   "source": [
    "# 完成 (1) 計算平方 和 (2) 計算平方根 的函式"
   ]
  },
  {
   "cell_type": "code",
   "execution_count": 4,
   "metadata": {},
   "outputs": [
    {
     "name": "stdout",
     "output_type": "stream",
     "text": [
      "num:5\n",
      "5.0's squre is 25.0: \n",
      "\n",
      "num: 9\n",
      "9.0's squre root is 3.0\n"
     ]
    }
   ],
   "source": [
    "def sqr(x):\n",
    "  return x ** 2\n",
    "\n",
    "def sqrt(x):\n",
    "  return x ** 0.5\n",
    "\n",
    "x = float(input('num:'))\n",
    "print(\"{}'s squre is {}: \".format(x, sqr(x)))\n",
    "print()\n",
    "\n",
    "x = float(input(\"num: \"))\n",
    "print(\"{}'s squre root is {}\".format(x, sqrt(x)))"
   ]
  },
  {
   "cell_type": "code",
   "execution_count": 3,
   "metadata": {},
   "outputs": [],
   "source": [
    "#2. 寫一個回傳 n! 的函式"
   ]
  },
  {
   "cell_type": "code",
   "execution_count": 6,
   "metadata": {},
   "outputs": [
    {
     "name": "stdout",
     "output_type": "stream",
     "text": [
      "Number: 5\n",
      "5! = 120\n"
     ]
    }
   ],
   "source": [
    "def factorial(n):\n",
    "  f = 1\n",
    "  if n == 0:\n",
    "    pass\n",
    "  else:\n",
    "    for i in range(n):\n",
    "      f = f * (i+1)\n",
    "  print(\"{}! = {}\".format(n, f))\n",
    "\n",
    "n = int(input(\"Number: \"))\n",
    "factorial(n)"
   ]
  },
  {
   "cell_type": "code",
   "execution_count": null,
   "metadata": {},
   "outputs": [],
   "source": []
  }
 ],
 "metadata": {
  "kernelspec": {
   "display_name": "Python 3",
   "language": "python",
   "name": "python3"
  },
  "language_info": {
   "codemirror_mode": {
    "name": "ipython",
    "version": 3
   },
   "file_extension": ".py",
   "mimetype": "text/x-python",
   "name": "python",
   "nbconvert_exporter": "python",
   "pygments_lexer": "ipython3",
   "version": "3.8.5"
  }
 },
 "nbformat": 4,
 "nbformat_minor": 4
}
